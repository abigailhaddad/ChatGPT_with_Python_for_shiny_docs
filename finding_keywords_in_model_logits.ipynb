{
  "nbformat": 4,
  "nbformat_minor": 0,
  "metadata": {
    "colab": {
      "provenance": [],
      "authorship_tag": "ABX9TyNEEaf0Bo2ur8a3jJDb7orE",
      "include_colab_link": true
    },
    "kernelspec": {
      "name": "python3",
      "display_name": "Python 3"
    },
    "language_info": {
      "name": "python"
    },
    "widgets": {
      "application/vnd.jupyter.widget-state+json": {
        "0770a7368fea412f98ed6a3c653c502b": {
          "model_module": "@jupyter-widgets/controls",
          "model_name": "HBoxModel",
          "model_module_version": "1.5.0",
          "state": {
            "_dom_classes": [],
            "_model_module": "@jupyter-widgets/controls",
            "_model_module_version": "1.5.0",
            "_model_name": "HBoxModel",
            "_view_count": null,
            "_view_module": "@jupyter-widgets/controls",
            "_view_module_version": "1.5.0",
            "_view_name": "HBoxView",
            "box_style": "",
            "children": [
              "IPY_MODEL_a009c7e9da4e4b11b0eaf06b75a35345",
              "IPY_MODEL_9f4fd45168af4c37b2afe05f3e609b48",
              "IPY_MODEL_551dff869d864f2cad0caabb99339210"
            ],
            "layout": "IPY_MODEL_2240d5b089a9466fbbe792304381e277"
          }
        },
        "a009c7e9da4e4b11b0eaf06b75a35345": {
          "model_module": "@jupyter-widgets/controls",
          "model_name": "HTMLModel",
          "model_module_version": "1.5.0",
          "state": {
            "_dom_classes": [],
            "_model_module": "@jupyter-widgets/controls",
            "_model_module_version": "1.5.0",
            "_model_name": "HTMLModel",
            "_view_count": null,
            "_view_module": "@jupyter-widgets/controls",
            "_view_module_version": "1.5.0",
            "_view_name": "HTMLView",
            "description": "",
            "description_tooltip": null,
            "layout": "IPY_MODEL_9da2273f9cfa46e9b75f20f3e456d52a",
            "placeholder": "​",
            "style": "IPY_MODEL_06136fd3d2aa4a948b832d5aeecb164a",
            "value": "Loading checkpoint shards: 100%"
          }
        },
        "9f4fd45168af4c37b2afe05f3e609b48": {
          "model_module": "@jupyter-widgets/controls",
          "model_name": "FloatProgressModel",
          "model_module_version": "1.5.0",
          "state": {
            "_dom_classes": [],
            "_model_module": "@jupyter-widgets/controls",
            "_model_module_version": "1.5.0",
            "_model_name": "FloatProgressModel",
            "_view_count": null,
            "_view_module": "@jupyter-widgets/controls",
            "_view_module_version": "1.5.0",
            "_view_name": "ProgressView",
            "bar_style": "success",
            "description": "",
            "description_tooltip": null,
            "layout": "IPY_MODEL_a2a1bd363c90428fa6b9de7349660ee7",
            "max": 2,
            "min": 0,
            "orientation": "horizontal",
            "style": "IPY_MODEL_c9a73e3404eb4efc84eaa4aedf4ca800",
            "value": 2
          }
        },
        "551dff869d864f2cad0caabb99339210": {
          "model_module": "@jupyter-widgets/controls",
          "model_name": "HTMLModel",
          "model_module_version": "1.5.0",
          "state": {
            "_dom_classes": [],
            "_model_module": "@jupyter-widgets/controls",
            "_model_module_version": "1.5.0",
            "_model_name": "HTMLModel",
            "_view_count": null,
            "_view_module": "@jupyter-widgets/controls",
            "_view_module_version": "1.5.0",
            "_view_name": "HTMLView",
            "description": "",
            "description_tooltip": null,
            "layout": "IPY_MODEL_db3cee2bea234b68aafb6e5f926dc291",
            "placeholder": "​",
            "style": "IPY_MODEL_11b0b029936e4d149026889c2a2faa9f",
            "value": " 2/2 [00:29&lt;00:00, 12.68s/it]"
          }
        },
        "2240d5b089a9466fbbe792304381e277": {
          "model_module": "@jupyter-widgets/base",
          "model_name": "LayoutModel",
          "model_module_version": "1.2.0",
          "state": {
            "_model_module": "@jupyter-widgets/base",
            "_model_module_version": "1.2.0",
            "_model_name": "LayoutModel",
            "_view_count": null,
            "_view_module": "@jupyter-widgets/base",
            "_view_module_version": "1.2.0",
            "_view_name": "LayoutView",
            "align_content": null,
            "align_items": null,
            "align_self": null,
            "border": null,
            "bottom": null,
            "display": null,
            "flex": null,
            "flex_flow": null,
            "grid_area": null,
            "grid_auto_columns": null,
            "grid_auto_flow": null,
            "grid_auto_rows": null,
            "grid_column": null,
            "grid_gap": null,
            "grid_row": null,
            "grid_template_areas": null,
            "grid_template_columns": null,
            "grid_template_rows": null,
            "height": null,
            "justify_content": null,
            "justify_items": null,
            "left": null,
            "margin": null,
            "max_height": null,
            "max_width": null,
            "min_height": null,
            "min_width": null,
            "object_fit": null,
            "object_position": null,
            "order": null,
            "overflow": null,
            "overflow_x": null,
            "overflow_y": null,
            "padding": null,
            "right": null,
            "top": null,
            "visibility": null,
            "width": null
          }
        },
        "9da2273f9cfa46e9b75f20f3e456d52a": {
          "model_module": "@jupyter-widgets/base",
          "model_name": "LayoutModel",
          "model_module_version": "1.2.0",
          "state": {
            "_model_module": "@jupyter-widgets/base",
            "_model_module_version": "1.2.0",
            "_model_name": "LayoutModel",
            "_view_count": null,
            "_view_module": "@jupyter-widgets/base",
            "_view_module_version": "1.2.0",
            "_view_name": "LayoutView",
            "align_content": null,
            "align_items": null,
            "align_self": null,
            "border": null,
            "bottom": null,
            "display": null,
            "flex": null,
            "flex_flow": null,
            "grid_area": null,
            "grid_auto_columns": null,
            "grid_auto_flow": null,
            "grid_auto_rows": null,
            "grid_column": null,
            "grid_gap": null,
            "grid_row": null,
            "grid_template_areas": null,
            "grid_template_columns": null,
            "grid_template_rows": null,
            "height": null,
            "justify_content": null,
            "justify_items": null,
            "left": null,
            "margin": null,
            "max_height": null,
            "max_width": null,
            "min_height": null,
            "min_width": null,
            "object_fit": null,
            "object_position": null,
            "order": null,
            "overflow": null,
            "overflow_x": null,
            "overflow_y": null,
            "padding": null,
            "right": null,
            "top": null,
            "visibility": null,
            "width": null
          }
        },
        "06136fd3d2aa4a948b832d5aeecb164a": {
          "model_module": "@jupyter-widgets/controls",
          "model_name": "DescriptionStyleModel",
          "model_module_version": "1.5.0",
          "state": {
            "_model_module": "@jupyter-widgets/controls",
            "_model_module_version": "1.5.0",
            "_model_name": "DescriptionStyleModel",
            "_view_count": null,
            "_view_module": "@jupyter-widgets/base",
            "_view_module_version": "1.2.0",
            "_view_name": "StyleView",
            "description_width": ""
          }
        },
        "a2a1bd363c90428fa6b9de7349660ee7": {
          "model_module": "@jupyter-widgets/base",
          "model_name": "LayoutModel",
          "model_module_version": "1.2.0",
          "state": {
            "_model_module": "@jupyter-widgets/base",
            "_model_module_version": "1.2.0",
            "_model_name": "LayoutModel",
            "_view_count": null,
            "_view_module": "@jupyter-widgets/base",
            "_view_module_version": "1.2.0",
            "_view_name": "LayoutView",
            "align_content": null,
            "align_items": null,
            "align_self": null,
            "border": null,
            "bottom": null,
            "display": null,
            "flex": null,
            "flex_flow": null,
            "grid_area": null,
            "grid_auto_columns": null,
            "grid_auto_flow": null,
            "grid_auto_rows": null,
            "grid_column": null,
            "grid_gap": null,
            "grid_row": null,
            "grid_template_areas": null,
            "grid_template_columns": null,
            "grid_template_rows": null,
            "height": null,
            "justify_content": null,
            "justify_items": null,
            "left": null,
            "margin": null,
            "max_height": null,
            "max_width": null,
            "min_height": null,
            "min_width": null,
            "object_fit": null,
            "object_position": null,
            "order": null,
            "overflow": null,
            "overflow_x": null,
            "overflow_y": null,
            "padding": null,
            "right": null,
            "top": null,
            "visibility": null,
            "width": null
          }
        },
        "c9a73e3404eb4efc84eaa4aedf4ca800": {
          "model_module": "@jupyter-widgets/controls",
          "model_name": "ProgressStyleModel",
          "model_module_version": "1.5.0",
          "state": {
            "_model_module": "@jupyter-widgets/controls",
            "_model_module_version": "1.5.0",
            "_model_name": "ProgressStyleModel",
            "_view_count": null,
            "_view_module": "@jupyter-widgets/base",
            "_view_module_version": "1.2.0",
            "_view_name": "StyleView",
            "bar_color": null,
            "description_width": ""
          }
        },
        "db3cee2bea234b68aafb6e5f926dc291": {
          "model_module": "@jupyter-widgets/base",
          "model_name": "LayoutModel",
          "model_module_version": "1.2.0",
          "state": {
            "_model_module": "@jupyter-widgets/base",
            "_model_module_version": "1.2.0",
            "_model_name": "LayoutModel",
            "_view_count": null,
            "_view_module": "@jupyter-widgets/base",
            "_view_module_version": "1.2.0",
            "_view_name": "LayoutView",
            "align_content": null,
            "align_items": null,
            "align_self": null,
            "border": null,
            "bottom": null,
            "display": null,
            "flex": null,
            "flex_flow": null,
            "grid_area": null,
            "grid_auto_columns": null,
            "grid_auto_flow": null,
            "grid_auto_rows": null,
            "grid_column": null,
            "grid_gap": null,
            "grid_row": null,
            "grid_template_areas": null,
            "grid_template_columns": null,
            "grid_template_rows": null,
            "height": null,
            "justify_content": null,
            "justify_items": null,
            "left": null,
            "margin": null,
            "max_height": null,
            "max_width": null,
            "min_height": null,
            "min_width": null,
            "object_fit": null,
            "object_position": null,
            "order": null,
            "overflow": null,
            "overflow_x": null,
            "overflow_y": null,
            "padding": null,
            "right": null,
            "top": null,
            "visibility": null,
            "width": null
          }
        },
        "11b0b029936e4d149026889c2a2faa9f": {
          "model_module": "@jupyter-widgets/controls",
          "model_name": "DescriptionStyleModel",
          "model_module_version": "1.5.0",
          "state": {
            "_model_module": "@jupyter-widgets/controls",
            "_model_module_version": "1.5.0",
            "_model_name": "DescriptionStyleModel",
            "_view_count": null,
            "_view_module": "@jupyter-widgets/base",
            "_view_module_version": "1.2.0",
            "_view_name": "StyleView",
            "description_width": ""
          }
        }
      }
    }
  },
  "cells": [
    {
      "cell_type": "markdown",
      "metadata": {
        "id": "view-in-github",
        "colab_type": "text"
      },
      "source": [
        "<a href=\"https://colab.research.google.com/github/abigailhaddad/ChatGPT_with_Python_for_shiny_docs/blob/master/finding_keywords_in_model_logits.ipynb\" target=\"_parent\"><img src=\"https://colab.research.google.com/assets/colab-badge.svg\" alt=\"Open In Colab\"/></a>"
      ]
    },
    {
      "cell_type": "markdown",
      "source": [
        "## Imports and Functions"
      ],
      "metadata": {
        "id": "zNgC_JTVeE_8"
      }
    },
    {
      "cell_type": "code",
      "source": [
        "!pip install einops\n",
        "\n",
        "from transformers import AutoModelForCausalLM, AutoTokenizer\n",
        "import torch\n",
        "import torch.nn.functional as F\n",
        "\n",
        "def load_huggingface_model(model_name):\n",
        "    \"\"\"\n",
        "    Load the Hugging Face model and tokenizer.\n",
        "    \"\"\"\n",
        "    tokenizer = AutoTokenizer.from_pretrained(model_name, trust_remote_code=True)\n",
        "    model = AutoModelForCausalLM.from_pretrained(model_name, trust_remote_code=True)\n",
        "    return model, tokenizer\n",
        "\n",
        "def get_model_logits(model, tokenizer, prompt, max_length=50):\n",
        "    \"\"\"\n",
        "    Get the logits from the Hugging Face model for the given prompt.\n",
        "    \"\"\"\n",
        "    input_ids = tokenizer.encode(prompt, return_tensors='pt')\n",
        "    with torch.no_grad():\n",
        "        outputs = model(input_ids, return_dict=True, output_attentions=False)\n",
        "    logits = outputs.logits\n",
        "    return logits[:, -1, :]\n",
        "\n",
        "def process_logits(logits, tokenizer, top_k=50):\n",
        "    \"\"\"\n",
        "    Process the logits to extract the top possible next tokens.\n",
        "    \"\"\"\n",
        "    # Apply softmax to convert logits to probabilities\n",
        "    probs = F.softmax(logits, dim=-1)\n",
        "\n",
        "    # Get the top token predictions\n",
        "    top_probs, top_indices = torch.topk(probs, top_k)\n",
        "    top_tokens = [tokenizer.decode([idx]) for idx in top_indices[0]]\n",
        "\n",
        "    return list(zip(top_tokens, top_probs[0].tolist()))\n",
        "\n",
        "def keyword_analysis(tokens, keywords):\n",
        "    \"\"\"\n",
        "    Analyze which keywords can be formed from the tokens, using backtracking to handle multiple paths.\n",
        "\n",
        "    :param tokens: List of tokens.\n",
        "    :param keywords: List of keywords to search for.\n",
        "    :return: Dictionary with keys True and False, values are lists of found and not found keywords.\n",
        "    \"\"\"\n",
        "    found = set()\n",
        "\n",
        "    def can_form_keyword(keyword, token_list):\n",
        "        if not keyword:\n",
        "            return True\n",
        "        for i, token in enumerate(token_list):\n",
        "            if keyword.startswith(token):\n",
        "                if can_form_keyword(keyword[len(token) :], token_list[i + 1 :]):\n",
        "                    return True\n",
        "        return False\n",
        "\n",
        "    for keyword in keywords:\n",
        "        if can_form_keyword(keyword, tokens):\n",
        "            found.add(keyword)\n",
        "\n",
        "    not_found = set(keywords) - found\n",
        "    return {True: list(found), False: list(not_found)}\n",
        "\n",
        "def extract_tokens(sorted_token_probs):\n",
        "    \"\"\"\n",
        "    Extract tokens from sorted token probabilities, convert to lowercase, strip, and remove duplicates.\n",
        "\n",
        "    :param sorted_token_probs: List of sorted token probabilities.\n",
        "    :return: List of unique, processed tokens.\n",
        "    \"\"\"\n",
        "    seen = set()\n",
        "    tokens = []\n",
        "    for token, _ in sorted_token_probs:\n",
        "        processed_token = token.lower().strip()\n",
        "        if processed_token not in seen:\n",
        "            seen.add(processed_token)\n",
        "            tokens.append(processed_token)\n",
        "    return tokens\n"
      ],
      "metadata": {
        "id": "qbH7eyaYbPEj"
      },
      "execution_count": null,
      "outputs": []
    },
    {
      "cell_type": "markdown",
      "source": [
        "## Getting the Model"
      ],
      "metadata": {
        "id": "Eb0wVv4TeMUQ"
      }
    },
    {
      "cell_type": "code",
      "source": [
        "model_name = \"microsoft/phi-2\"\n",
        "model, tokenizer = load_huggingface_model(model_name)"
      ],
      "metadata": {
        "colab": {
          "base_uri": "https://localhost:8080/",
          "height": 66,
          "referenced_widgets": [
            "0770a7368fea412f98ed6a3c653c502b",
            "a009c7e9da4e4b11b0eaf06b75a35345",
            "9f4fd45168af4c37b2afe05f3e609b48",
            "551dff869d864f2cad0caabb99339210",
            "2240d5b089a9466fbbe792304381e277",
            "9da2273f9cfa46e9b75f20f3e456d52a",
            "06136fd3d2aa4a948b832d5aeecb164a",
            "a2a1bd363c90428fa6b9de7349660ee7",
            "c9a73e3404eb4efc84eaa4aedf4ca800",
            "db3cee2bea234b68aafb6e5f926dc291",
            "11b0b029936e4d149026889c2a2faa9f"
          ]
        },
        "id": "Jh0soGsneLx8",
        "outputId": "78c58f6f-77da-4668-bf53-aaa4aae0d8d7"
      },
      "execution_count": null,
      "outputs": [
        {
          "output_type": "stream",
          "name": "stderr",
          "text": [
            "Special tokens have been added in the vocabulary, make sure the associated word embeddings are fine-tuned or trained.\n"
          ]
        },
        {
          "output_type": "display_data",
          "data": {
            "text/plain": [
              "Loading checkpoint shards:   0%|          | 0/2 [00:00<?, ?it/s]"
            ],
            "application/vnd.jupyter.widget-view+json": {
              "version_major": 2,
              "version_minor": 0,
              "model_id": "0770a7368fea412f98ed6a3c653c502b"
            }
          },
          "metadata": {}
        }
      ]
    },
    {
      "cell_type": "markdown",
      "source": [
        "## Running the Code for Prompt/Keyword Combinations"
      ],
      "metadata": {
        "id": "ZO3svic8eTP_"
      }
    },
    {
      "cell_type": "code",
      "source": [
        "# This is the prompt we're sending to the model\n",
        "prompt = \"What is the process of photosynthesis?\"\n",
        "# These are the keywords we're looking for in possible responses\n",
        "keywords = [\"chlorophyll\", \"sunlight\", \"mitochondria\", \"plant\"]\n",
        "# these are the logit probabilities associated with possible responses\n",
        "logits = get_model_logits(model, tokenizer, prompt)\n",
        "# these are tuples showing each of the top_k tokens and its corresponding probability\n",
        "token_probs = process_logits(logits, tokenizer, top_k=250)\n",
        "# these are the tokens sorted by probability\n",
        "sorted_tokens = extract_tokens(token_probs)\n",
        "# these are the keyword results: the True ones were present in the tokens (or could be reconstructed from the tokens),\n",
        "# the False ones were not present\n",
        "keyword_results = keyword_analysis(sorted_tokens, keywords)\n",
        "keyword_results"
      ],
      "metadata": {
        "colab": {
          "base_uri": "https://localhost:8080/"
        },
        "id": "KuyY31iAeZE4",
        "outputId": "051c69f3-bbf6-4d5b-f92f-db079f9dcbbb"
      },
      "execution_count": null,
      "outputs": [
        {
          "output_type": "execute_result",
          "data": {
            "text/plain": [
              "{True: ['plant'], False: ['chlorophyll', 'sunlight', 'mitochondria']}"
            ]
          },
          "metadata": {},
          "execution_count": 7
        }
      ]
    }
  ]
}